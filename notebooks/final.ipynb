{
 "cells": [
  {
   "cell_type": "code",
   "execution_count": 1,
   "metadata": {},
   "outputs": [],
   "source": [
    "import sqlite3\n",
    "import pandas as pd\n",
    "import numpy as np\n",
    "import re"
   ]
  },
  {
   "cell_type": "code",
   "execution_count": 2,
   "metadata": {},
   "outputs": [
    {
     "data": {
      "text/html": [
       "<div>\n",
       "<style scoped>\n",
       "    .dataframe tbody tr th:only-of-type {\n",
       "        vertical-align: middle;\n",
       "    }\n",
       "\n",
       "    .dataframe tbody tr th {\n",
       "        vertical-align: top;\n",
       "    }\n",
       "\n",
       "    .dataframe thead th {\n",
       "        text-align: right;\n",
       "    }\n",
       "</style>\n",
       "<table border=\"1\" class=\"dataframe\">\n",
       "  <thead>\n",
       "    <tr style=\"text-align: right;\">\n",
       "      <th></th>\n",
       "      <th>uuid</th>\n",
       "      <th>country_code</th>\n",
       "      <th>rural</th>\n",
       "      <th>normalized_job_code</th>\n",
       "    </tr>\n",
       "  </thead>\n",
       "  <tbody>\n",
       "    <tr>\n",
       "      <th>0</th>\n",
       "      <td>0001afe0-da16-0133-9d54-0a81e8b09a82</td>\n",
       "      <td>NL</td>\n",
       "      <td>city</td>\n",
       "      <td>7932d4705d002b47789c11edfaed685e</td>\n",
       "    </tr>\n",
       "    <tr>\n",
       "      <th>1</th>\n",
       "      <td>00073240-d995-0133-f7e1-0a81e8b09a82</td>\n",
       "      <td>HR</td>\n",
       "      <td>Country</td>\n",
       "      <td>None</td>\n",
       "    </tr>\n",
       "    <tr>\n",
       "      <th>2</th>\n",
       "      <td>0007b2d0-daf3-0133-c5f0-0a81e8b09a82</td>\n",
       "      <td>DE</td>\n",
       "      <td>rural</td>\n",
       "      <td>e7b3e1c6a32c7247cd4857e4c3574165</td>\n",
       "    </tr>\n",
       "    <tr>\n",
       "      <th>3</th>\n",
       "      <td>00199e00-d8c3-0133-c6b2-0a81e8b09a82</td>\n",
       "      <td>IT</td>\n",
       "      <td>rural</td>\n",
       "      <td>None</td>\n",
       "    </tr>\n",
       "    <tr>\n",
       "      <th>4</th>\n",
       "      <td>0028cc20-dcc4-0133-f408-0a81e8b09a82</td>\n",
       "      <td>FR</td>\n",
       "      <td>rural</td>\n",
       "      <td>None</td>\n",
       "    </tr>\n",
       "  </tbody>\n",
       "</table>\n",
       "</div>"
      ],
      "text/plain": [
       "                                   uuid country_code    rural  \\\n",
       "0  0001afe0-da16-0133-9d54-0a81e8b09a82           NL     city   \n",
       "1  00073240-d995-0133-f7e1-0a81e8b09a82           HR  Country   \n",
       "2  0007b2d0-daf3-0133-c5f0-0a81e8b09a82           DE    rural   \n",
       "3  00199e00-d8c3-0133-c6b2-0a81e8b09a82           IT    rural   \n",
       "4  0028cc20-dcc4-0133-f408-0a81e8b09a82           FR    rural   \n",
       "\n",
       "                normalized_job_code  \n",
       "0  7932d4705d002b47789c11edfaed685e  \n",
       "1                              None  \n",
       "2  e7b3e1c6a32c7247cd4857e4c3574165  \n",
       "3                              None  \n",
       "4                              None  "
      ]
     },
     "execution_count": 2,
     "metadata": {},
     "output_type": "execute_result"
    }
   ],
   "source": [
    "# Connecting the data\n",
    "\n",
    "conn = sqlite3.connect('../data/raw_data_project_m1.db')\n",
    "\n",
    "sql_code='''\n",
    "          SELECT personal_info.uuid,country_info.country_code, country_info.rural, career_info.normalized_job_code\n",
    "          FROM personal_info\n",
    "          JOIN career_info ON personal_info.uuid=career_info.uuid\n",
    "          JOIN country_info ON personal_info.uuid=country_info.uuid\n",
    "          JOIN poll_info ON personal_info.uuid=poll_info.uuid\n",
    "          '''\n",
    "raw_data_df=pd.DataFrame(pd.read_sql_query(sql_code, conn))\n",
    "\n",
    "raw_data_df.head()\n",
    "# raw_df.info()"
   ]
  },
  {
   "cell_type": "code",
   "execution_count": 3,
   "metadata": {},
   "outputs": [],
   "source": [
    "# Cleaning Rural\n",
    "def rural_names(x):\n",
    "    if x == 'countryside':\n",
    "        return 'Rural'\n",
    "    if x == 'urban':\n",
    "        return 'Urban'\n",
    "    if x == 'city':\n",
    "        return 'Urban'\n",
    "    if x == 'Country':\n",
    "        return 'Rural'\n",
    "    if x == 'rural':\n",
    "        return 'Rural'\n",
    "    if x == 'Non-Rural':\n",
    "        return 'Urban'\n",
    "    \n",
    "        raw_data_df['rural'] = raw_data_df['rural'].replace('Rural', 'countryside')\n",
    "    raw_data_df['rural'] = raw_data_df['rural'].replace('Urban', 'urban')\n",
    "    raw_data_df['rural'] = raw_data_df['rural'].replace('Urban', 'city')\n",
    "    raw_data_df['rural'] = raw_data_df['rural'].replace('Rural', 'Country')\n",
    "    raw_data_df['rural'] = raw_data_df['rural'].replace('Rural', 'rural')\n",
    "    raw_data_df['rural'] = raw_data_df['rural'].replace('Rural', 'Non-Rural')"
   ]
  },
  {
   "cell_type": "code",
   "execution_count": 4,
   "metadata": {},
   "outputs": [
    {
     "data": {
      "text/html": [
       "<div>\n",
       "<style scoped>\n",
       "    .dataframe tbody tr th:only-of-type {\n",
       "        vertical-align: middle;\n",
       "    }\n",
       "\n",
       "    .dataframe tbody tr th {\n",
       "        vertical-align: top;\n",
       "    }\n",
       "\n",
       "    .dataframe thead th {\n",
       "        text-align: right;\n",
       "    }\n",
       "</style>\n",
       "<table border=\"1\" class=\"dataframe\">\n",
       "  <thead>\n",
       "    <tr style=\"text-align: right;\">\n",
       "      <th></th>\n",
       "      <th>uuid</th>\n",
       "      <th>country_code</th>\n",
       "      <th>Rural</th>\n",
       "      <th>normalized_job_code</th>\n",
       "    </tr>\n",
       "  </thead>\n",
       "  <tbody>\n",
       "    <tr>\n",
       "      <th>0</th>\n",
       "      <td>0001afe0-da16-0133-9d54-0a81e8b09a82</td>\n",
       "      <td>NL</td>\n",
       "      <td>Urban</td>\n",
       "      <td>7932d4705d002b47789c11edfaed685e</td>\n",
       "    </tr>\n",
       "    <tr>\n",
       "      <th>1</th>\n",
       "      <td>00073240-d995-0133-f7e1-0a81e8b09a82</td>\n",
       "      <td>HR</td>\n",
       "      <td>Rural</td>\n",
       "      <td>None</td>\n",
       "    </tr>\n",
       "    <tr>\n",
       "      <th>2</th>\n",
       "      <td>0007b2d0-daf3-0133-c5f0-0a81e8b09a82</td>\n",
       "      <td>DE</td>\n",
       "      <td>Rural</td>\n",
       "      <td>e7b3e1c6a32c7247cd4857e4c3574165</td>\n",
       "    </tr>\n",
       "    <tr>\n",
       "      <th>3</th>\n",
       "      <td>00199e00-d8c3-0133-c6b2-0a81e8b09a82</td>\n",
       "      <td>IT</td>\n",
       "      <td>Rural</td>\n",
       "      <td>None</td>\n",
       "    </tr>\n",
       "    <tr>\n",
       "      <th>4</th>\n",
       "      <td>0028cc20-dcc4-0133-f408-0a81e8b09a82</td>\n",
       "      <td>FR</td>\n",
       "      <td>Rural</td>\n",
       "      <td>None</td>\n",
       "    </tr>\n",
       "  </tbody>\n",
       "</table>\n",
       "</div>"
      ],
      "text/plain": [
       "                                   uuid country_code  Rural  \\\n",
       "0  0001afe0-da16-0133-9d54-0a81e8b09a82           NL  Urban   \n",
       "1  00073240-d995-0133-f7e1-0a81e8b09a82           HR  Rural   \n",
       "2  0007b2d0-daf3-0133-c5f0-0a81e8b09a82           DE  Rural   \n",
       "3  00199e00-d8c3-0133-c6b2-0a81e8b09a82           IT  Rural   \n",
       "4  0028cc20-dcc4-0133-f408-0a81e8b09a82           FR  Rural   \n",
       "\n",
       "                normalized_job_code  \n",
       "0  7932d4705d002b47789c11edfaed685e  \n",
       "1                              None  \n",
       "2  e7b3e1c6a32c7247cd4857e4c3574165  \n",
       "3                              None  \n",
       "4                              None  "
      ]
     },
     "execution_count": 4,
     "metadata": {},
     "output_type": "execute_result"
    }
   ],
   "source": [
    "# change rural into Rural\n",
    "raw_data_df['Rural'] = raw_data_df['rural'].apply(rural_names)\n",
    "raw_data = raw_data_df[['uuid', 'country_code', 'Rural', 'normalized_job_code']]\n",
    "raw_data.head()\n",
    "#raw_data['Rural'].unique()"
   ]
  },
  {
   "cell_type": "code",
   "execution_count": 5,
   "metadata": {},
   "outputs": [
    {
     "name": "stdout",
     "output_type": "stream",
     "text": [
      "ending...\n"
     ]
    }
   ],
   "source": [
    "# API\n",
    "import requests\n",
    "import json\n",
    "\n",
    "url = 'http://api.dataatwork.org/v1/jobs/'\n",
    "job_title_requests = []\n",
    "jobs_unique_values = raw_data['normalized_job_code'].unique()\n",
    "\n",
    "for value in jobs_unique_values:\n",
    "    response_data = requests.get(f'{url}{value}').json()\n",
    "    if list(response_data.keys())[0] == 'error':\n",
    "        pass\n",
    "    else:\n",
    "        job_title_requests.append(response_data)\n",
    "        \n",
    "print('ending...')"
   ]
  },
  {
   "cell_type": "code",
   "execution_count": 6,
   "metadata": {},
   "outputs": [
    {
     "data": {
      "text/plain": [
       "[{'uuid': '7932d4705d002b47789c11edfaed685e',\n",
       "  'title': 'Data Control Assistant',\n",
       "  'normalized_job_title': 'data control assistant',\n",
       "  'parent_uuid': '1b7a3048ca875e752dbe1ec6368e2e9a'},\n",
       " {'uuid': 'e7b3e1c6a32c7247cd4857e4c3574165',\n",
       "  'title': 'Data Processing Systems Analyst',\n",
       "  'normalized_job_title': 'data processing systems analyst',\n",
       "  'parent_uuid': '0148f61d4227497728ce33490843d056'},\n",
       " {'uuid': '04c82eae29e1c4a30eac0710b74ab276',\n",
       "  'title': 'Database Marketing Analyst',\n",
       "  'normalized_job_title': 'database marketing analyst',\n",
       "  'parent_uuid': '05d507b5052f3f105eb5602c10723103'},\n",
       " {'uuid': '3161063d378eecc4581c5cdee46a2a6c',\n",
       "  'title': 'Head of Information Systems and Data Processing',\n",
       "  'normalized_job_title': 'head of information systems and data processing',\n",
       "  'parent_uuid': 'bb4e5066e69e4228172b4850d2a920f4'},\n",
       " {'uuid': 'e2f68bf748aea2c7d2254550c0c92b23',\n",
       "  'title': 'Director of Data Operations',\n",
       "  'normalized_job_title': 'director of data operations',\n",
       "  'parent_uuid': 'bb4e5066e69e4228172b4850d2a920f4'}]"
      ]
     },
     "execution_count": 6,
     "metadata": {},
     "output_type": "execute_result"
    }
   ],
   "source": [
    "job_title_requests[:5]"
   ]
  },
  {
   "cell_type": "code",
   "execution_count": 7,
   "metadata": {},
   "outputs": [],
   "source": [
    "# uuid values\n",
    "job_uuid_list = []\n",
    "for uuid_item in job_title_requests:\n",
    "    try:\n",
    "        job_uuid_list.append(uuid_item['uuid'])\n",
    "    except:\n",
    "        pass"
   ]
  },
  {
   "cell_type": "code",
   "execution_count": 8,
   "metadata": {},
   "outputs": [],
   "source": [
    "# title values\n",
    "job_titles_job_list = []\n",
    "\n",
    "for title_item in job_title_requests:\n",
    "    try:\n",
    "        job_titles_job_list.append(title_item['title'])\n",
    "    except:\n",
    "        pass"
   ]
  },
  {
   "cell_type": "code",
   "execution_count": 9,
   "metadata": {},
   "outputs": [],
   "source": [
    "dict_job_id_titles_value = dict(zip(job_uuid_list, job_titles_job_list))"
   ]
  },
  {
   "cell_type": "code",
   "execution_count": 10,
   "metadata": {},
   "outputs": [],
   "source": [
    "raw_data['Job Title'] = raw_data['normalized_job_code']\n",
    "\n",
    "for uuid, title in dict_job_id_titles_value.items():\n",
    "    raw_data.loc[raw_data['normalized_job_code'] == uuid, 'Job Title'] = title"
   ]
  },
  {
   "cell_type": "code",
   "execution_count": 11,
   "metadata": {},
   "outputs": [
    {
     "data": {
      "text/html": [
       "<div>\n",
       "<style scoped>\n",
       "    .dataframe tbody tr th:only-of-type {\n",
       "        vertical-align: middle;\n",
       "    }\n",
       "\n",
       "    .dataframe tbody tr th {\n",
       "        vertical-align: top;\n",
       "    }\n",
       "\n",
       "    .dataframe thead th {\n",
       "        text-align: right;\n",
       "    }\n",
       "</style>\n",
       "<table border=\"1\" class=\"dataframe\">\n",
       "  <thead>\n",
       "    <tr style=\"text-align: right;\">\n",
       "      <th></th>\n",
       "      <th>uuid</th>\n",
       "      <th>country_code</th>\n",
       "      <th>Rural</th>\n",
       "      <th>Job Title</th>\n",
       "      <th>normalized_job_code</th>\n",
       "    </tr>\n",
       "  </thead>\n",
       "  <tbody>\n",
       "    <tr>\n",
       "      <th>0</th>\n",
       "      <td>0001afe0-da16-0133-9d54-0a81e8b09a82</td>\n",
       "      <td>NL</td>\n",
       "      <td>Urban</td>\n",
       "      <td>Data Control Assistant</td>\n",
       "      <td>7932d4705d002b47789c11edfaed685e</td>\n",
       "    </tr>\n",
       "    <tr>\n",
       "      <th>1</th>\n",
       "      <td>00073240-d995-0133-f7e1-0a81e8b09a82</td>\n",
       "      <td>HR</td>\n",
       "      <td>Rural</td>\n",
       "      <td>None</td>\n",
       "      <td>None</td>\n",
       "    </tr>\n",
       "    <tr>\n",
       "      <th>2</th>\n",
       "      <td>0007b2d0-daf3-0133-c5f0-0a81e8b09a82</td>\n",
       "      <td>DE</td>\n",
       "      <td>Rural</td>\n",
       "      <td>Data Processing Systems Analyst</td>\n",
       "      <td>e7b3e1c6a32c7247cd4857e4c3574165</td>\n",
       "    </tr>\n",
       "    <tr>\n",
       "      <th>3</th>\n",
       "      <td>00199e00-d8c3-0133-c6b2-0a81e8b09a82</td>\n",
       "      <td>IT</td>\n",
       "      <td>Rural</td>\n",
       "      <td>None</td>\n",
       "      <td>None</td>\n",
       "    </tr>\n",
       "    <tr>\n",
       "      <th>4</th>\n",
       "      <td>0028cc20-dcc4-0133-f408-0a81e8b09a82</td>\n",
       "      <td>FR</td>\n",
       "      <td>Rural</td>\n",
       "      <td>None</td>\n",
       "      <td>None</td>\n",
       "    </tr>\n",
       "  </tbody>\n",
       "</table>\n",
       "</div>"
      ],
      "text/plain": [
       "                                   uuid country_code  Rural  \\\n",
       "0  0001afe0-da16-0133-9d54-0a81e8b09a82           NL  Urban   \n",
       "1  00073240-d995-0133-f7e1-0a81e8b09a82           HR  Rural   \n",
       "2  0007b2d0-daf3-0133-c5f0-0a81e8b09a82           DE  Rural   \n",
       "3  00199e00-d8c3-0133-c6b2-0a81e8b09a82           IT  Rural   \n",
       "4  0028cc20-dcc4-0133-f408-0a81e8b09a82           FR  Rural   \n",
       "\n",
       "                         Job Title               normalized_job_code  \n",
       "0           Data Control Assistant  7932d4705d002b47789c11edfaed685e  \n",
       "1                             None                              None  \n",
       "2  Data Processing Systems Analyst  e7b3e1c6a32c7247cd4857e4c3574165  \n",
       "3                             None                              None  \n",
       "4                             None                              None  "
      ]
     },
     "execution_count": 11,
     "metadata": {},
     "output_type": "execute_result"
    }
   ],
   "source": [
    "raw_data[['uuid', 'country_code', 'Rural', 'Job Title', 'normalized_job_code']].head()"
   ]
  },
  {
   "cell_type": "code",
   "execution_count": 12,
   "metadata": {},
   "outputs": [],
   "source": [
    "# Web scraping\n",
    "\n",
    "import requests\n",
    "from bs4 import BeautifulSoup"
   ]
  },
  {
   "cell_type": "code",
   "execution_count": 13,
   "metadata": {},
   "outputs": [],
   "source": [
    "url = 'https://ec.europa.eu/eurostat/statistics-explained/index.php/Glossary:Country_codes'\n",
    "html = requests.get(url).content\n",
    "soup = BeautifulSoup(html, 'html.parser')"
   ]
  },
  {
   "cell_type": "code",
   "execution_count": 14,
   "metadata": {},
   "outputs": [],
   "source": [
    "table = soup.find_all('div', {'class': 'mw-content-ltr'})[0]\n",
    "countries_data = table.find_all('table')\n",
    "countries_names = [info.text for info in countries_data]"
   ]
  },
  {
   "cell_type": "code",
   "execution_count": 15,
   "metadata": {},
   "outputs": [],
   "source": [
    "#countries_names[:7]"
   ]
  },
  {
   "cell_type": "code",
   "execution_count": 16,
   "metadata": {},
   "outputs": [],
   "source": [
    "# using regular expressions in order to clean countries data\n",
    "\n",
    "cleaning_spaces = [re.sub(r'\\s', '', i) for i in countries_names]\n",
    "#cleaning_spaces\n",
    "cleaning_special_characters = [re.sub(r'\\*', '', i) for i in cleaning_spaces]\n",
    "#cleaning_special_characters\n",
    "cleaning_brackets = [re.sub(r'\\[\\d\\]', '', i) for i in cleaning_special_characters]\n",
    "#cleaning_brackets"
   ]
  },
  {
   "cell_type": "code",
   "execution_count": 17,
   "metadata": {},
   "outputs": [],
   "source": [
    "countries_scrapping_data = ''.join(cleaning_brackets)\n",
    "#countries_scrapping_data"
   ]
  },
  {
   "cell_type": "code",
   "execution_count": 18,
   "metadata": {},
   "outputs": [],
   "source": [
    "# separating keys and values in order to convert it in a dictionary \n",
    "countries_values = re.split(r'\\(\\w{0,7}\\)', countries_scrapping_data)\n",
    "countries_keys = re.findall(r'\\(\\w{0,7}\\)', countries_scrapping_data)\n",
    "countries_keys = [re.sub(r'\\(|\\)', '', i) for i in countries_keys]\n",
    "dict_keys_values_countries = dict(zip(countries_keys, countries_values))"
   ]
  },
  {
   "cell_type": "code",
   "execution_count": 19,
   "metadata": {},
   "outputs": [],
   "source": [
    "# adding missing countries\n",
    "dict_keys_values_countries['GB'] = 'Great Britain'\n",
    "dict_keys_values_countries['GR'] = 'Greece'"
   ]
  },
  {
   "cell_type": "code",
   "execution_count": 20,
   "metadata": {},
   "outputs": [],
   "source": [
    "# adding countries to the dataframe\n",
    "raw_data['Country'] = raw_data['country_code']\n",
    "for keys, values in dict_keys_values_countries.items():\n",
    "    raw_data.loc[raw_data['country_code'] == keys, 'Country'] = values"
   ]
  },
  {
   "cell_type": "code",
   "execution_count": 21,
   "metadata": {},
   "outputs": [
    {
     "data": {
      "text/html": [
       "<div>\n",
       "<style scoped>\n",
       "    .dataframe tbody tr th:only-of-type {\n",
       "        vertical-align: middle;\n",
       "    }\n",
       "\n",
       "    .dataframe tbody tr th {\n",
       "        vertical-align: top;\n",
       "    }\n",
       "\n",
       "    .dataframe thead th {\n",
       "        text-align: right;\n",
       "    }\n",
       "</style>\n",
       "<table border=\"1\" class=\"dataframe\">\n",
       "  <thead>\n",
       "    <tr style=\"text-align: right;\">\n",
       "      <th></th>\n",
       "      <th>uuid</th>\n",
       "      <th>country_code</th>\n",
       "      <th>Rural</th>\n",
       "      <th>normalized_job_code</th>\n",
       "      <th>Job Title</th>\n",
       "      <th>Country</th>\n",
       "    </tr>\n",
       "  </thead>\n",
       "  <tbody>\n",
       "    <tr>\n",
       "      <th>0</th>\n",
       "      <td>0001afe0-da16-0133-9d54-0a81e8b09a82</td>\n",
       "      <td>NL</td>\n",
       "      <td>Urban</td>\n",
       "      <td>7932d4705d002b47789c11edfaed685e</td>\n",
       "      <td>Data Control Assistant</td>\n",
       "      <td>Netherlands</td>\n",
       "    </tr>\n",
       "    <tr>\n",
       "      <th>1</th>\n",
       "      <td>00073240-d995-0133-f7e1-0a81e8b09a82</td>\n",
       "      <td>HR</td>\n",
       "      <td>Rural</td>\n",
       "      <td>None</td>\n",
       "      <td>None</td>\n",
       "      <td>Croatia</td>\n",
       "    </tr>\n",
       "    <tr>\n",
       "      <th>2</th>\n",
       "      <td>0007b2d0-daf3-0133-c5f0-0a81e8b09a82</td>\n",
       "      <td>DE</td>\n",
       "      <td>Rural</td>\n",
       "      <td>e7b3e1c6a32c7247cd4857e4c3574165</td>\n",
       "      <td>Data Processing Systems Analyst</td>\n",
       "      <td>Germany</td>\n",
       "    </tr>\n",
       "    <tr>\n",
       "      <th>3</th>\n",
       "      <td>00199e00-d8c3-0133-c6b2-0a81e8b09a82</td>\n",
       "      <td>IT</td>\n",
       "      <td>Rural</td>\n",
       "      <td>None</td>\n",
       "      <td>None</td>\n",
       "      <td>Italy</td>\n",
       "    </tr>\n",
       "    <tr>\n",
       "      <th>4</th>\n",
       "      <td>0028cc20-dcc4-0133-f408-0a81e8b09a82</td>\n",
       "      <td>FR</td>\n",
       "      <td>Rural</td>\n",
       "      <td>None</td>\n",
       "      <td>None</td>\n",
       "      <td>France</td>\n",
       "    </tr>\n",
       "  </tbody>\n",
       "</table>\n",
       "</div>"
      ],
      "text/plain": [
       "                                   uuid country_code  Rural  \\\n",
       "0  0001afe0-da16-0133-9d54-0a81e8b09a82           NL  Urban   \n",
       "1  00073240-d995-0133-f7e1-0a81e8b09a82           HR  Rural   \n",
       "2  0007b2d0-daf3-0133-c5f0-0a81e8b09a82           DE  Rural   \n",
       "3  00199e00-d8c3-0133-c6b2-0a81e8b09a82           IT  Rural   \n",
       "4  0028cc20-dcc4-0133-f408-0a81e8b09a82           FR  Rural   \n",
       "\n",
       "                normalized_job_code                        Job Title  \\\n",
       "0  7932d4705d002b47789c11edfaed685e           Data Control Assistant   \n",
       "1                              None                             None   \n",
       "2  e7b3e1c6a32c7247cd4857e4c3574165  Data Processing Systems Analyst   \n",
       "3                              None                             None   \n",
       "4                              None                             None   \n",
       "\n",
       "       Country  \n",
       "0  Netherlands  \n",
       "1      Croatia  \n",
       "2      Germany  \n",
       "3        Italy  \n",
       "4       France  "
      ]
     },
     "execution_count": 21,
     "metadata": {},
     "output_type": "execute_result"
    }
   ],
   "source": [
    "raw_data.head()"
   ]
  },
  {
   "cell_type": "code",
   "execution_count": 22,
   "metadata": {},
   "outputs": [],
   "source": [
    "raw_data = raw_data[['uuid', 'Country', 'Job Title', 'Rural']]\n",
    "#raw_data.head()"
   ]
  },
  {
   "cell_type": "code",
   "execution_count": 23,
   "metadata": {},
   "outputs": [],
   "source": [
    "# adding Quantity and Percentage\n",
    "rows_counts = dict(raw_data['Job Title'].value_counts())\n",
    "percentage_calculate = raw_data['Job Title'].count()\n",
    "\n",
    "for i in raw_data.index:\n",
    "    if raw_data.loc[i, 'Job Title'] == None:\n",
    "        pass\n",
    "    else:\n",
    "        raw_data.loc[i, 'Quantity'] = rows_counts[raw_data.loc[i, 'Job Title']]\n",
    "        raw_data.loc[i, 'Percentage'] = rows_counts[raw_data.loc[i, 'Job Title']] * 100 / percentage_calculate"
   ]
  },
  {
   "cell_type": "code",
   "execution_count": 24,
   "metadata": {},
   "outputs": [],
   "source": [
    "raw_final = raw_data.dropna(subset=['Job Title', 'Quantity'])"
   ]
  },
  {
   "cell_type": "code",
   "execution_count": 25,
   "metadata": {},
   "outputs": [
    {
     "data": {
      "text/html": [
       "<div>\n",
       "<style scoped>\n",
       "    .dataframe tbody tr th:only-of-type {\n",
       "        vertical-align: middle;\n",
       "    }\n",
       "\n",
       "    .dataframe tbody tr th {\n",
       "        vertical-align: top;\n",
       "    }\n",
       "\n",
       "    .dataframe thead th {\n",
       "        text-align: right;\n",
       "    }\n",
       "</style>\n",
       "<table border=\"1\" class=\"dataframe\">\n",
       "  <thead>\n",
       "    <tr style=\"text-align: right;\">\n",
       "      <th></th>\n",
       "      <th>uuid</th>\n",
       "      <th>Country</th>\n",
       "      <th>Job Title</th>\n",
       "      <th>Rural</th>\n",
       "      <th>Quantity</th>\n",
       "      <th>Percentage</th>\n",
       "    </tr>\n",
       "  </thead>\n",
       "  <tbody>\n",
       "    <tr>\n",
       "      <th>0</th>\n",
       "      <td>0001afe0-da16-0133-9d54-0a81e8b09a82</td>\n",
       "      <td>Netherlands</td>\n",
       "      <td>Data Control Assistant</td>\n",
       "      <td>Urban</td>\n",
       "      <td>8.0</td>\n",
       "      <td>0.140302</td>\n",
       "    </tr>\n",
       "    <tr>\n",
       "      <th>2</th>\n",
       "      <td>0007b2d0-daf3-0133-c5f0-0a81e8b09a82</td>\n",
       "      <td>Germany</td>\n",
       "      <td>Data Processing Systems Analyst</td>\n",
       "      <td>Rural</td>\n",
       "      <td>76.0</td>\n",
       "      <td>1.332866</td>\n",
       "    </tr>\n",
       "    <tr>\n",
       "      <th>5</th>\n",
       "      <td>002b2140-da48-0133-58d3-0a81e8b09a82</td>\n",
       "      <td>Sweden</td>\n",
       "      <td>Database Marketing Analyst</td>\n",
       "      <td>Urban</td>\n",
       "      <td>61.0</td>\n",
       "      <td>1.069800</td>\n",
       "    </tr>\n",
       "    <tr>\n",
       "      <th>7</th>\n",
       "      <td>0035b420-d95a-0133-5d4f-0a81e8b09a82</td>\n",
       "      <td>Spain</td>\n",
       "      <td>Head of Information Systems and Data Processing</td>\n",
       "      <td>Urban</td>\n",
       "      <td>71.0</td>\n",
       "      <td>1.245177</td>\n",
       "    </tr>\n",
       "    <tr>\n",
       "      <th>9</th>\n",
       "      <td>0042eb40-d943-0133-c7f4-0a81e8b09a82</td>\n",
       "      <td>Bulgaria</td>\n",
       "      <td>Director of Data Operations</td>\n",
       "      <td>Urban</td>\n",
       "      <td>78.0</td>\n",
       "      <td>1.367941</td>\n",
       "    </tr>\n",
       "  </tbody>\n",
       "</table>\n",
       "</div>"
      ],
      "text/plain": [
       "                                   uuid      Country  \\\n",
       "0  0001afe0-da16-0133-9d54-0a81e8b09a82  Netherlands   \n",
       "2  0007b2d0-daf3-0133-c5f0-0a81e8b09a82      Germany   \n",
       "5  002b2140-da48-0133-58d3-0a81e8b09a82       Sweden   \n",
       "7  0035b420-d95a-0133-5d4f-0a81e8b09a82        Spain   \n",
       "9  0042eb40-d943-0133-c7f4-0a81e8b09a82     Bulgaria   \n",
       "\n",
       "                                         Job Title  Rural  Quantity  \\\n",
       "0                           Data Control Assistant  Urban       8.0   \n",
       "2                  Data Processing Systems Analyst  Rural      76.0   \n",
       "5                       Database Marketing Analyst  Urban      61.0   \n",
       "7  Head of Information Systems and Data Processing  Urban      71.0   \n",
       "9                      Director of Data Operations  Urban      78.0   \n",
       "\n",
       "   Percentage  \n",
       "0    0.140302  \n",
       "2    1.332866  \n",
       "5    1.069800  \n",
       "7    1.245177  \n",
       "9    1.367941  "
      ]
     },
     "execution_count": 25,
     "metadata": {},
     "output_type": "execute_result"
    }
   ],
   "source": [
    "raw_final.head()"
   ]
  },
  {
   "cell_type": "code",
   "execution_count": 26,
   "metadata": {},
   "outputs": [
    {
     "name": "stderr",
     "output_type": "stream",
     "text": [
      "<ipython-input-26-159b2706be45>:1: SettingWithCopyWarning: \n",
      "A value is trying to be set on a copy of a slice from a DataFrame.\n",
      "Try using .loc[row_indexer,col_indexer] = value instead\n",
      "\n",
      "See the caveats in the documentation: https://pandas.pydata.org/pandas-docs/stable/user_guide/indexing.html#returning-a-view-versus-a-copy\n",
      "  raw_final['Quantity'] = raw_final['Quantity'].astype('int64')\n",
      "<ipython-input-26-159b2706be45>:2: SettingWithCopyWarning: \n",
      "A value is trying to be set on a copy of a slice from a DataFrame.\n",
      "Try using .loc[row_indexer,col_indexer] = value instead\n",
      "\n",
      "See the caveats in the documentation: https://pandas.pydata.org/pandas-docs/stable/user_guide/indexing.html#returning-a-view-versus-a-copy\n",
      "  raw_final['Percentage'] = raw_final['Percentage'].astype(float).map(lambda x: '{:.2%}'.format(x))\n"
     ]
    }
   ],
   "source": [
    "raw_final['Quantity'] = raw_final['Quantity'].astype('int64')\n",
    "raw_final['Percentage'] = raw_final['Percentage'].astype(float).map(lambda x: '{:.2%}'.format(x))"
   ]
  },
  {
   "cell_type": "code",
   "execution_count": 27,
   "metadata": {},
   "outputs": [
    {
     "data": {
      "text/html": [
       "<div>\n",
       "<style scoped>\n",
       "    .dataframe tbody tr th:only-of-type {\n",
       "        vertical-align: middle;\n",
       "    }\n",
       "\n",
       "    .dataframe tbody tr th {\n",
       "        vertical-align: top;\n",
       "    }\n",
       "\n",
       "    .dataframe thead th {\n",
       "        text-align: right;\n",
       "    }\n",
       "</style>\n",
       "<table border=\"1\" class=\"dataframe\">\n",
       "  <thead>\n",
       "    <tr style=\"text-align: right;\">\n",
       "      <th></th>\n",
       "      <th>uuid</th>\n",
       "      <th>Country</th>\n",
       "      <th>Job Title</th>\n",
       "      <th>Rural</th>\n",
       "      <th>Quantity</th>\n",
       "      <th>Percentage</th>\n",
       "    </tr>\n",
       "  </thead>\n",
       "  <tbody>\n",
       "    <tr>\n",
       "      <th>2876</th>\n",
       "      <td>4ddd1330-d8be-0133-0e2a-0a81e8b09a82</td>\n",
       "      <td>Great Britain</td>\n",
       "      <td>Data Center Manager</td>\n",
       "      <td>Urban</td>\n",
       "      <td>4</td>\n",
       "      <td>7.02%</td>\n",
       "    </tr>\n",
       "    <tr>\n",
       "      <th>4624</th>\n",
       "      <td>7baed400-db5a-0133-30f3-0a81e8b09a82</td>\n",
       "      <td>Great Britain</td>\n",
       "      <td>Database Technician</td>\n",
       "      <td>Urban</td>\n",
       "      <td>4</td>\n",
       "      <td>7.02%</td>\n",
       "    </tr>\n",
       "    <tr>\n",
       "      <th>5058</th>\n",
       "      <td>86f60570-dd43-0133-2b30-0a81e8b09a82</td>\n",
       "      <td>Germany</td>\n",
       "      <td>Data Center Manager</td>\n",
       "      <td>Rural</td>\n",
       "      <td>4</td>\n",
       "      <td>7.02%</td>\n",
       "    </tr>\n",
       "    <tr>\n",
       "      <th>5261</th>\n",
       "      <td>8bdab6c0-da7b-0133-8a6a-0a81e8b09a82</td>\n",
       "      <td>Poland</td>\n",
       "      <td>Database Technician</td>\n",
       "      <td>Urban</td>\n",
       "      <td>4</td>\n",
       "      <td>7.02%</td>\n",
       "    </tr>\n",
       "    <tr>\n",
       "      <th>6905</th>\n",
       "      <td>b7d4cdc0-dcb1-0133-92aa-0a81e8b09a82</td>\n",
       "      <td>Spain</td>\n",
       "      <td>Database Technician</td>\n",
       "      <td>Urban</td>\n",
       "      <td>4</td>\n",
       "      <td>7.02%</td>\n",
       "    </tr>\n",
       "  </tbody>\n",
       "</table>\n",
       "</div>"
      ],
      "text/plain": [
       "                                      uuid        Country  \\\n",
       "2876  4ddd1330-d8be-0133-0e2a-0a81e8b09a82  Great Britain   \n",
       "4624  7baed400-db5a-0133-30f3-0a81e8b09a82  Great Britain   \n",
       "5058  86f60570-dd43-0133-2b30-0a81e8b09a82        Germany   \n",
       "5261  8bdab6c0-da7b-0133-8a6a-0a81e8b09a82         Poland   \n",
       "6905  b7d4cdc0-dcb1-0133-92aa-0a81e8b09a82          Spain   \n",
       "\n",
       "                Job Title  Rural  Quantity Percentage  \n",
       "2876  Data Center Manager  Urban         4      7.02%  \n",
       "4624  Database Technician  Urban         4      7.02%  \n",
       "5058  Data Center Manager  Rural         4      7.02%  \n",
       "5261  Database Technician  Urban         4      7.02%  \n",
       "6905  Database Technician  Urban         4      7.02%  "
      ]
     },
     "execution_count": 27,
     "metadata": {},
     "output_type": "execute_result"
    }
   ],
   "source": [
    "raw_final = raw_final.sort_values(['Quantity', 'Percentage'])\n",
    "raw_final.head()"
   ]
  },
  {
   "cell_type": "code",
   "execution_count": 28,
   "metadata": {},
   "outputs": [],
   "source": [
    "# selecting an option\n",
    "\n"
   ]
  },
  {
   "cell_type": "code",
   "execution_count": 29,
   "metadata": {},
   "outputs": [
    {
     "data": {
      "text/plain": [
       "array(['Data Center Manager', 'Database Technician', 'Data Reviewer',\n",
       "       'Clinical Trials Data Coordinator', 'Data Processing Mechanic',\n",
       "       'Data Examination Clerk', 'Data Capture Specialist',\n",
       "       'Data Abstractor', 'Data Processing Clerk',\n",
       "       'Data Management Manager', 'Data Processing Control Clerk',\n",
       "       'Data Control Assistant', 'Data Capture Clerk',\n",
       "       'Clinical Data Specialist',\n",
       "       'Data Processing Auxiliary Equipment Operator', 'Data Analyst',\n",
       "       'Operations Officer, Afloat (Naval Tactical Data Systems)',\n",
       "       'Crime Data Specialist', 'Data Control Clerk Supervisor',\n",
       "       'Data Processing Supervisor', 'Scientific Database Curator',\n",
       "       'Maintenance Data Analyst', 'Reference Data Expert',\n",
       "       'Data Collector', 'Data Keyer', 'Data Entry Operator',\n",
       "       'Clinical Data Analyst', 'Data Technician', 'Datastage Developer',\n",
       "       'Data Specialist', 'Data Entry Associate', 'Data Entry Technician',\n",
       "       'Database Administrator (DBA)',\n",
       "       'Weight in Motion Field Data Collection Technician',\n",
       "       'Data Entry Specialist', 'Data Entry Clerk',\n",
       "       'Clinical Data Coordinator', 'Analytical Data Miner',\n",
       "       'Data Modeler', 'Data Entry Machine Operator',\n",
       "       'Clinical Data Abstractor', 'Data Analysis Assistant',\n",
       "       'Data Processing Equipment Repairer', 'LiDAR Data Analyst',\n",
       "       'Database Development Project Manager',\n",
       "       'GPS Field Data Collector (Global Positioning System Field Data Collector)',\n",
       "       'Data Communications Technician', 'Survey Data Technician',\n",
       "       'Naval Tactical Data System--Combat Information Center Watch Officer, Carrier Controlled Approach Controller',\n",
       "       'Data Acquisition Technician',\n",
       "       'Data Processing Services Sales Representative',\n",
       "       'SCADA Operator (Supervisory Control and Data Acquisition Operator)',\n",
       "       'Log Data Technician',\n",
       "       'Clinical Data Management Associate Director',\n",
       "       'Business Database Analyst', 'Data Entry Supervisor',\n",
       "       'Data Conversion Operator', 'Database Developer',\n",
       "       'Data Recovery Planner', 'Medical Data Analyst',\n",
       "       'SCADA Technician (Supervisory Control and Data Acquisition Technician)',\n",
       "       'Data Coder Operator', 'Database Administration Project Manager',\n",
       "       'Clinical Data Manager', 'Flight Test Data Acquisition Technician',\n",
       "       'Voice and Data Technician', 'Health Data Analyst',\n",
       "       'Data Transcriber', 'Customer Data Technician',\n",
       "       'Flight Data Technician', 'Database Programmer', 'Data Manager',\n",
       "       'Data Typist', 'Data Input Clerk', 'Data Reduction Technician',\n",
       "       'Field Artillery Automated Tactical Data System Specialist',\n",
       "       'Micro Computer Data Processor', 'Marketing Database Analyst',\n",
       "       'Naval Tactical Data System--Combat Information Center Watch Officer, General',\n",
       "       'Data Processor', 'Field Traffic Data Technician',\n",
       "       'Data Sciences Director', 'Data Compiler',\n",
       "       'Naval Tactical Data System--Combat Information Center Officer',\n",
       "       'Data Center Operator', 'Data Entry Representative',\n",
       "       'Clinical Data Associate',\n",
       "       'Clinical Data Management Manager (CDM Manager)',\n",
       "       'Data Collection Technician', 'Database Analyst',\n",
       "       'Data Operations Director', 'Databases Software Consultant',\n",
       "       'Databases Computer Consultant', 'Data Processing Consultant',\n",
       "       'Database Design Analyst', 'Data Base Design Analyst',\n",
       "       'Data Warehousing Engineer', 'Data Warehousing Specialist',\n",
       "       'Electronic Data Interchange System Developer (EDI System Developer)',\n",
       "       'Database Marketing Analyst', 'Data Warehousing Manager',\n",
       "       'Database Specialist',\n",
       "       'Data Management Information Technology Specialist',\n",
       "       'Engineer, System Electronic Data Processing (Engineer, System EDP)',\n",
       "       'Data Warehouse Developer', 'Database Security Expert',\n",
       "       'Database Modeler',\n",
       "       'Geographic Information Systems Data Manager (GIS Data Manager)',\n",
       "       'Database Designer', 'Data Processing Systems Project Planner',\n",
       "       'Electronic Data Processing Auditor (EDP Auditor)',\n",
       "       'Database Administration Manager', 'SQL Database Administrator',\n",
       "       'Data Processing Auditor', 'Data Security Administrator',\n",
       "       'Data Scientist', 'Data Warehouse Analyst',\n",
       "       'Data Communications Analyst',\n",
       "       'Geographic Information Systems Data Administrator (GIS Data Administrator)',\n",
       "       'Data Systems Manager',\n",
       "       'Head of Information Systems and Data Processing',\n",
       "       'Database Security Administrator', 'Data Management Associate',\n",
       "       'Internet Database Specialist', 'Data Miner', 'Database Architect',\n",
       "       'Database Administration Associate',\n",
       "       'Geographic Information Systems Database Administrator (GIS Database Administrator)',\n",
       "       'Data Communications Software Consultant',\n",
       "       'Data Processing Manager',\n",
       "       'Database Development and Administration Project Manager',\n",
       "       'Data Processing Systems Analyst',\n",
       "       'Database Management System Specialist (DBMS Specialist)',\n",
       "       'Database Software Technician', 'Database Tester',\n",
       "       'Data Security Analyst', 'Data Warehouse Architect',\n",
       "       'Automatic Data Processing Planner (ADP Planner)',\n",
       "       'Database Engineer', 'Director of Data Operations',\n",
       "       'Database Manager', 'Automatic Data Processing Planner',\n",
       "       'Oracle Database Administrator (Oracle DBA)',\n",
       "       'Data Modeling Specialist', 'Database Coordinator',\n",
       "       'Data Warehouse Specialist', 'Data Storage Specialist',\n",
       "       'Database Consultant',\n",
       "       'Automatic Data Processing Systems Security Specialist (ADP Systems Security)',\n",
       "       'Data Administrator',\n",
       "       'Geographic Information Systems Data Specialist (GIS Data Specialist)',\n",
       "       'Automatic Data Processing Customer Liaison (ADP Customer Liaison)',\n",
       "       'Data Architect', 'Data Coordinator',\n",
       "       'Computer or Data Processing Systems Consultant', 'Data Officer'],\n",
       "      dtype=object)"
      ]
     },
     "execution_count": 29,
     "metadata": {},
     "output_type": "execute_result"
    }
   ],
   "source": [
    "raw_final['Job Title'].unique()"
   ]
  },
  {
   "cell_type": "code",
   "execution_count": 30,
   "metadata": {},
   "outputs": [],
   "source": [
    "import matplotlib.pyplot as plt"
   ]
  },
  {
   "cell_type": "code",
   "execution_count": 31,
   "metadata": {},
   "outputs": [],
   "source": [
    "%matplotlib inline"
   ]
  },
  {
   "cell_type": "code",
   "execution_count": 32,
   "metadata": {},
   "outputs": [],
   "source": [
    "x = raw_final['Country'][:5]"
   ]
  },
  {
   "cell_type": "code",
   "execution_count": 33,
   "metadata": {},
   "outputs": [],
   "source": [
    "y = raw_final['Quantity'][:5]"
   ]
  },
  {
   "cell_type": "code",
   "execution_count": 34,
   "metadata": {},
   "outputs": [],
   "source": [
    "z = raw_final['Percentage'][:5]"
   ]
  },
  {
   "cell_type": "code",
   "execution_count": 35,
   "metadata": {},
   "outputs": [
    {
     "data": {
      "image/png": "[encoded data removed]",
      "text/plain": [
       "<Figure size 576x576 with 1 Axes>"
      ]
     },
     "metadata": {
      "needs_background": "light"
     },
     "output_type": "display_data"
    }
   ],
   "source": [
    "fig, ax = plt.subplots(ncols=1, nrows=1, figsize=(8,8))\n",
    "ax.barh(x,y);"
   ]
  },
  {
   "cell_type": "code",
   "execution_count": 36,
   "metadata": {},
   "outputs": [],
   "source": [
    "#fig, ax = plt.subplots(ncols=1, nrows=1, figsize=(16,10));\n",
    "\n",
    "#ax.set_title('Countries per Quantity')\n",
    "#ax.barh(x,y);"
   ]
  },
  {
   "cell_type": "code",
   "execution_count": 37,
   "metadata": {},
   "outputs": [],
   "source": [
    "plt.style.use('ggplot')"
   ]
  },
  {
   "cell_type": "code",
   "execution_count": 38,
   "metadata": {},
   "outputs": [
    {
     "data": {
      "image/png": "[encoded data removed]",
      "text/plain": [
       "<Figure size 1152x720 with 1 Axes>"
      ]
     },
     "metadata": {},
     "output_type": "display_data"
    }
   ],
   "source": [
    "fig, ax = plt.subplots(ncols=1, nrows=1, figsize=(16,10));\n",
    "\n",
    "ax.set_title('Countries per Quantity')\n",
    "ax.barh(x,y);"
   ]
  },
  {
   "cell_type": "code",
   "execution_count": 49,
   "metadata": {},
   "outputs": [],
   "source": [
    "import smtplib"
   ]
  },
  {
   "cell_type": "code",
   "execution_count": 50,
   "metadata": {},
   "outputs": [],
   "source": [
    "#help(smtplib)"
   ]
  },
  {
   "cell_type": "code",
   "execution_count": 58,
   "metadata": {},
   "outputs": [
    {
     "name": "stdout",
     "output_type": "stream",
     "text": [
      "Sent\n"
     ]
    }
   ],
   "source": [
    "import smtplib\n",
    "\n",
    "# import the corresponding modules\n",
    "from email import encoders\n",
    "from email.mime.base import MIMEBase\n",
    "from email.mime.multipart import MIMEMultipart\n",
    "from email.mime.text import MIMEText\n",
    "\n",
    "port = 587 \n",
    "smtp_server = \"smtp-mail.gmail.com\"\n",
    "login = \"08420bb5e8c8a7\" # paste your login generated by Mailtrap\n",
    "password = \"6d54c85cbcb506\" # paste your password generated by Mailtrap\n",
    "\n",
    "subject = \"An example of boarding pass\"\n",
    "sender_email = \"m.fernandezban@gmail.com\"\n",
    "receiver_email = \"m.fernandezban@gmail.com\"\n",
    "\n",
    "message = MIMEMultipart()\n",
    "message[\"From\"] = sender_email\n",
    "message[\"To\"] = receiver_email\n",
    "message[\"Subject\"] = subject\n",
    "\n",
    "# Add body to email\n",
    "body = \"This is an example of how you can send a boarding pass\"\n",
    "message.attach(MIMEText(body, \"plain\"))\n",
    "\n",
    "filename = \"../results/all_countries_data.csv\"\n",
    "# Open PDF file in binary mode\n",
    "\n",
    "# We assume that the file is in the directory where you run your Python script from\n",
    "with open(filename, \"rb\") as attachment:\n",
    "    # The content type \"application/octet-stream\" means that a MIME attachment is a binary file\n",
    "    part = MIMEBase(\"application\", \"octet-stream\")\n",
    "    part.set_payload(attachment.read())\n",
    "\n",
    "# Encode to base64\n",
    "encoders.encode_base64(part)\n",
    "\n",
    "# Add header \n",
    "part.add_header(\n",
    "    \"Content-Disposition\",\n",
    "    f\"attachment; filename= {filename}\",\n",
    ")\n",
    "\n",
    "# Add attachment to your message and convert it to string\n",
    "message.attach(part)\n",
    "text = message.as_string()\n",
    "\n",
    "# send your email\n",
    "with smtplib.SMTP(\"smtp.mailtrap.io\", 2525) as server:\n",
    "    server.login(login, password)\n",
    "    server.sendmail(\n",
    "        sender_email, receiver_email, text\n",
    "    )\n",
    "print('Sent')"
   ]
  },
  {
   "cell_type": "code",
   "execution_count": null,
   "metadata": {},
   "outputs": [],
   "source": []
  },
  {
   "cell_type": "code",
   "execution_count": null,
   "metadata": {},
   "outputs": [],
   "source": []
  },
  {
   "cell_type": "code",
   "execution_count": null,
   "metadata": {},
   "outputs": [],
   "source": []
  }
 ],
 "metadata": {
  "kernelspec": {
   "display_name": "Python [conda env:ironhack_env]",
   "language": "python",
   "name": "conda-env-ironhack_env-py"
  },
  "language_info": {
   "codemirror_mode": {
    "name": "ipython",
    "version": 3
   },
   "file_extension": ".py",
   "mimetype": "text/x-python",
   "name": "python",
   "nbconvert_exporter": "python",
   "pygments_lexer": "ipython3",
   "version": "3.8.5"
  }
 },
 "nbformat": 4,
 "nbformat_minor": 4
}
